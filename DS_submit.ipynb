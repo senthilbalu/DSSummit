{
  "nbformat": 4,
  "nbformat_minor": 0,
  "metadata": {
    "colab": {
      "name": "DS_submit.ipynb",
      "provenance": [],
      "authorship_tag": "ABX9TyN8QCg4jo2//Ty8A+l953De",
      "include_colab_link": true
    },
    "kernelspec": {
      "name": "python3",
      "display_name": "Python 3"
    }
  },
  "cells": [
    {
      "cell_type": "markdown",
      "metadata": {
        "id": "view-in-github",
        "colab_type": "text"
      },
      "source": [
        "<a href=\"https://colab.research.google.com/github/senthilbalu/DSSummit/blob/master/DS_submit.ipynb\" target=\"_parent\"><img src=\"https://colab.research.google.com/assets/colab-badge.svg\" alt=\"Open In Colab\"/></a>"
      ]
    },
    {
      "cell_type": "code",
      "metadata": {
        "id": "ijZP2ABMxbKV",
        "colab_type": "code",
        "colab": {
          "base_uri": "https://localhost:8080/",
          "height": 34
        },
        "outputId": "8e2e0c86-7a45-4d2b-d552-c91b1b28cc58"
      },
      "source": [
        "import requests\n",
        "url='https://lf8q0kx152.execute-api.us-east-2.amazonaws.com/default/computeFitnessScore'\n",
        "x=requests.post(url,json={\"qconfig\":\"5 2 0 7 3 1 6 4\",\"userID\":378212,\"githubLink\":\"https://github.com/senthilbalu/DSSummit/blob/master/DS_8Queens_Final.ipynb\"})\n",
        "print(x.text)\n"
      ],
      "execution_count": 1,
      "outputs": [
        {
          "output_type": "stream",
          "text": [
            "{\"No Of Attempts lapsed out of 3\": 1, \"submittedConfiguration\": [5, 2, 0, 7, 3, 1, 6, 4], \"configurationStatus\": \"Valid\", \"configurationScore\": 100.0}\n"
          ],
          "name": "stdout"
        }
      ]
    }
  ]
}